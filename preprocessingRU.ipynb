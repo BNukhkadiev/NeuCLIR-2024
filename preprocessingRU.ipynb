{
 "cells": [
  {
   "cell_type": "markdown",
   "metadata": {},
   "source": [
    "Before running the code, you might need to uncomment the next cell in order to import Russian-language NLP-library Razdel (https://github.com/natasha)"
   ]
  },
  {
   "cell_type": "code",
   "execution_count": 1,
   "metadata": {},
   "outputs": [
    {
     "name": "stdout",
     "output_type": "stream",
     "text": [
      "Requirement already satisfied: razdel in c:\\users\\liza_n\\appdata\\local\\programs\\python\\python311\\lib\\site-packages (0.5.0)\n"
     ]
    },
    {
     "name": "stderr",
     "output_type": "stream",
     "text": [
      "\n",
      "[notice] A new release of pip is available: 24.0 -> 24.2\n",
      "[notice] To update, run: python.exe -m pip install --upgrade pip\n"
     ]
    }
   ],
   "source": [
    "#!pip install razdel"
   ]
  },
  {
   "cell_type": "code",
   "execution_count": 18,
   "metadata": {},
   "outputs": [],
   "source": [
    "from razdel import tokenize\n",
    "from nltk.stem.snowball import SnowballStemmer\n",
    "import string\n",
    "from nltk.corpus import stopwords\n",
    "\n",
    "def preprocess(title, text, remove_stop: bool=True) -> list:\n",
    "    \"\"\"\n",
    "    :title: str, title of the corresponding document\n",
    "    :text: str, \n",
    "    :param remove_stop: bool indicating if stopwords should be removed (default True)\n",
    "\n",
    "    :return: list(str) of tokens, stemmed, with removed punctuation\n",
    "    \"\"\"\n",
    "\n",
    "\n",
    "    tokens = [_.text for _ in list(tokenize(title + ' ' + text))]\n",
    "    \n",
    "    preprocessed =[]\n",
    "\n",
    "    stemmer = SnowballStemmer(\"russian\") \n",
    "    stop = stopwords.words(\"russian\")\n",
    "    punct = string.punctuation + \"«»\"\n",
    "    \n",
    "    for t in tokens:\n",
    "        if t in punct:\n",
    "            continue\n",
    "        if remove_stop and t.lower() in stop:\n",
    "            continue\n",
    "        preprocessed.append(stemmer.stem(t))\n",
    "\n",
    "    return preprocessed   "
   ]
  },
  {
   "cell_type": "code",
   "execution_count": 19,
   "metadata": {},
   "outputs": [
    {
     "data": {
      "text/plain": [
       "['серг',\n",
       " 'аксен',\n",
       " 'сообщ',\n",
       " 'регистрац',\n",
       " 'крым',\n",
       " '247',\n",
       " 'нов',\n",
       " 'случа',\n",
       " 'COVID-19',\n",
       " 'глав',\n",
       " 'республик',\n",
       " 'крым',\n",
       " 'серг',\n",
       " 'аксен',\n",
       " 'сообщ',\n",
       " 'сво',\n",
       " 'официальн',\n",
       " 'страниц',\n",
       " 'социальн',\n",
       " 'сет',\n",
       " 'вконтакт',\n",
       " 'регистрац',\n",
       " '247',\n",
       " 'нов',\n",
       " 'случа',\n",
       " 'коронавирусн',\n",
       " 'инфекц',\n",
       " 'крым']"
      ]
     },
     "execution_count": 19,
     "metadata": {},
     "output_type": "execute_result"
    }
   ],
   "source": [
    "#test on doc id ed4af92b-0039-453e-8f25-f359225da8e0\n",
    "\n",
    "title = 'Сергей Аксёнов сообщил о регистрации в Крыму 247 новых случаев COVID-19'\n",
    "text = 'Глава Республики Крым Сергей Аксёнов сообщил на своей официальной странице в социальной сети «ВКонтакте» о регистрации 247 новых случаев коронавирусной инфекции в Крыму.'\n",
    "\n",
    "preprocess(title, text)"
   ]
  },
  {
   "cell_type": "code",
   "execution_count": null,
   "metadata": {},
   "outputs": [],
   "source": []
  }
 ],
 "metadata": {
  "kernelspec": {
   "display_name": "Python 3",
   "language": "python",
   "name": "python3"
  },
  "language_info": {
   "codemirror_mode": {
    "name": "ipython",
    "version": 3
   },
   "file_extension": ".py",
   "mimetype": "text/x-python",
   "name": "python",
   "nbconvert_exporter": "python",
   "pygments_lexer": "ipython3",
   "version": "3.11.7"
  }
 },
 "nbformat": 4,
 "nbformat_minor": 2
}
