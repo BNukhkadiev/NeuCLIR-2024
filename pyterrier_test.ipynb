{
 "cells": [
  {
   "cell_type": "code",
   "execution_count": 1,
   "metadata": {},
   "outputs": [],
   "source": [
    "import pyterrier as pt"
   ]
  },
  {
   "cell_type": "code",
   "execution_count": 2,
   "metadata": {},
   "outputs": [
    {
     "name": "stdout",
     "output_type": "stream",
     "text": [
      "Files in vaswani corpus: ['C:\\\\Users\\\\Liza_N/.pyterrier\\\\corpora\\\\vaswani\\\\corpus\\\\doc-text.trec'] \n"
     ]
    }
   ],
   "source": [
    "dataset = pt.get_dataset(\"vaswani\")\n",
    "\n",
    "print(\"Files in vaswani corpus: %s \" % dataset.get_corpus())"
   ]
  },
  {
   "cell_type": "code",
   "execution_count": 3,
   "metadata": {},
   "outputs": [],
   "source": [
    "index_path = \"./index\""
   ]
  },
  {
   "cell_type": "code",
   "execution_count": 4,
   "metadata": {},
   "outputs": [
    {
     "name": "stderr",
     "output_type": "stream",
     "text": [
      "\"rm\" �� ���� ����७��� ��� ���譥�\n",
      "��������, �ᯮ��塞�� �ணࠬ��� ��� ������ 䠩���.\n",
      "Java started (triggered by TerrierIndexer.__init__) and loaded: pyterrier.java, pyterrier.terrier.java [version=5.10 (build: craigm 2024-08-22 17:33), helper_version=0.0.8]\n"
     ]
    }
   ],
   "source": [
    "!rm -rf ./index\n",
    "indexer = pt.TRECCollectionIndexer(index_path, blocks=True)"
   ]
  },
  {
   "cell_type": "code",
   "execution_count": 5,
   "metadata": {},
   "outputs": [
    {
     "name": "stdout",
     "output_type": "stream",
     "text": [
      "12:12:43.316 [main] ERROR org.terrier.structures.Index -- Cannot create new index: path c:\\D\\3_HWS_2024\\IE 663 Information Retrieval and Web Search\\Project\\NeuCLIR-2024\\.\\var\\./index does not exist, or cannot be written to\n"
     ]
    },
    {
     "ename": "JavaException",
     "evalue": "JVM exception occurred: Cannot create new index: path c:\\D\\3_HWS_2024\\IE 663 Information Retrieval and Web Search\\Project\\NeuCLIR-2024\\.\\var\\./index does not exist, or cannot be written to java.lang.IllegalArgumentException",
     "output_type": "error",
     "traceback": [
      "\u001b[1;31m---------------------------------------------------------------------------\u001b[0m",
      "\u001b[1;31mJavaException\u001b[0m                             Traceback (most recent call last)",
      "Cell \u001b[1;32mIn[5], line 1\u001b[0m\n\u001b[1;32m----> 1\u001b[0m indexref \u001b[38;5;241m=\u001b[39m \u001b[43mindexer\u001b[49m\u001b[38;5;241;43m.\u001b[39;49m\u001b[43mindex\u001b[49m\u001b[43m(\u001b[49m\u001b[43mdataset\u001b[49m\u001b[38;5;241;43m.\u001b[39;49m\u001b[43mget_corpus\u001b[49m\u001b[43m(\u001b[49m\u001b[43m)\u001b[49m\u001b[43m)\u001b[49m\n\u001b[0;32m      3\u001b[0m \u001b[38;5;66;03m# indexer method takes either a string or a list of strings with the files names\u001b[39;00m\n\u001b[0;32m      4\u001b[0m \u001b[38;5;66;03m# indexer.index([\"/vaswani_corpus/doc-text.trec\",])\u001b[39;00m\n\u001b[0;32m      5\u001b[0m \u001b[38;5;66;03m# indexer.index(\"/vaswani_corpus/doc-text.trec\")\u001b[39;00m\n",
      "File \u001b[1;32mc:\\Users\\Liza_N\\AppData\\Local\\Programs\\Python\\Python311\\Lib\\site-packages\\pyterrier\\utils.py:207\u001b[0m, in \u001b[0;36mpre_invocation_decorator.<locals>._decorator_wrapper.<locals>._wrapper\u001b[1;34m(*args, **kwargs)\u001b[0m\n\u001b[0;32m    204\u001b[0m \u001b[38;5;129m@wraps\u001b[39m(fn)\n\u001b[0;32m    205\u001b[0m \u001b[38;5;28;01mdef\u001b[39;00m \u001b[38;5;21m_wrapper\u001b[39m(\u001b[38;5;241m*\u001b[39margs, \u001b[38;5;241m*\u001b[39m\u001b[38;5;241m*\u001b[39mkwargs):\n\u001b[0;32m    206\u001b[0m     decorator(fn)\n\u001b[1;32m--> 207\u001b[0m     \u001b[38;5;28;01mreturn\u001b[39;00m \u001b[43mfn\u001b[49m\u001b[43m(\u001b[49m\u001b[38;5;241;43m*\u001b[39;49m\u001b[43margs\u001b[49m\u001b[43m,\u001b[49m\u001b[43m \u001b[49m\u001b[38;5;241;43m*\u001b[39;49m\u001b[38;5;241;43m*\u001b[39;49m\u001b[43mkwargs\u001b[49m\u001b[43m)\u001b[49m\n",
      "File \u001b[1;32mc:\\Users\\Liza_N\\AppData\\Local\\Programs\\Python\\Python311\\Lib\\site-packages\\pyterrier\\terrier\\index.py:873\u001b[0m, in \u001b[0;36mTRECCollectionIndexer.index\u001b[1;34m(self, files_path)\u001b[0m\n\u001b[0;32m    871\u001b[0m \u001b[38;5;66;03m# remove once 5.7 is now the minimum version\u001b[39;00m\n\u001b[0;32m    872\u001b[0m \u001b[38;5;28;01mif\u001b[39;00m pt\u001b[38;5;241m.\u001b[39mterrier\u001b[38;5;241m.\u001b[39mcheck_version(\u001b[38;5;124m\"\u001b[39m\u001b[38;5;124m5.7\u001b[39m\u001b[38;5;124m\"\u001b[39m):\n\u001b[1;32m--> 873\u001b[0m     \u001b[43mindex\u001b[49m\u001b[38;5;241;43m.\u001b[39;49m\u001b[43mindex\u001b[49m\u001b[43m(\u001b[49m\u001b[43mcolObj\u001b[49m\u001b[43m)\u001b[49m\n\u001b[0;32m    874\u001b[0m \u001b[38;5;28;01melse\u001b[39;00m:\n\u001b[0;32m    875\u001b[0m     index\u001b[38;5;241m.\u001b[39mindex(pt\u001b[38;5;241m.\u001b[39mterrier\u001b[38;5;241m.\u001b[39mJ\u001b[38;5;241m.\u001b[39mPTUtils\u001b[38;5;241m.\u001b[39mmakeCollection(colObj))\n",
      "File \u001b[1;32mjnius\\\\jnius_export_class.pxi:1163\u001b[0m, in \u001b[0;36mjnius.JavaMultipleMethod.__call__\u001b[1;34m()\u001b[0m\n",
      "File \u001b[1;32mjnius\\\\jnius_export_class.pxi:877\u001b[0m, in \u001b[0;36mjnius.JavaMethod.__call__\u001b[1;34m()\u001b[0m\n",
      "File \u001b[1;32mjnius\\\\jnius_export_class.pxi:971\u001b[0m, in \u001b[0;36mjnius.JavaMethod.call_method\u001b[1;34m()\u001b[0m\n",
      "File \u001b[1;32mjnius\\\\jnius_utils.pxi:79\u001b[0m, in \u001b[0;36mjnius.check_exception\u001b[1;34m()\u001b[0m\n",
      "\u001b[1;31mJavaException\u001b[0m: JVM exception occurred: Cannot create new index: path c:\\D\\3_HWS_2024\\IE 663 Information Retrieval and Web Search\\Project\\NeuCLIR-2024\\.\\var\\./index does not exist, or cannot be written to java.lang.IllegalArgumentException"
     ]
    }
   ],
   "source": [
    "indexref = indexer.index(dataset.get_corpus())\n",
    "\n",
    "# indexer method takes either a string or a list of strings with the files names\n",
    "# indexer.index([\"/vaswani_corpus/doc-text.trec\",])\n",
    "# indexer.index(\"/vaswani_corpus/doc-text.trec\")\n"
   ]
  },
  {
   "cell_type": "code",
   "execution_count": null,
   "metadata": {},
   "outputs": [],
   "source": []
  },
  {
   "cell_type": "code",
   "execution_count": null,
   "metadata": {},
   "outputs": [],
   "source": []
  }
 ],
 "metadata": {
  "kernelspec": {
   "display_name": "Python 3",
   "language": "python",
   "name": "python3"
  },
  "language_info": {
   "codemirror_mode": {
    "name": "ipython",
    "version": 3
   },
   "file_extension": ".py",
   "mimetype": "text/x-python",
   "name": "python",
   "nbconvert_exporter": "python",
   "pygments_lexer": "ipython3",
   "version": "3.11.7"
  }
 },
 "nbformat": 4,
 "nbformat_minor": 2
}
