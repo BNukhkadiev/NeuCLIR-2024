{
 "cells": [
  {
   "cell_type": "code",
   "execution_count": 2,
   "metadata": {},
   "outputs": [
    {
     "name": "stdout",
     "output_type": "stream",
     "text": [
      "Requirement already satisfied: datasets in c:\\users\\liza_n\\appdata\\local\\programs\\python\\python311\\lib\\site-packages (3.0.1)\n",
      "Requirement already satisfied: filelock in c:\\users\\liza_n\\appdata\\local\\programs\\python\\python311\\lib\\site-packages (from datasets) (3.13.1)\n",
      "Requirement already satisfied: numpy>=1.17 in c:\\users\\liza_n\\appdata\\local\\programs\\python\\python311\\lib\\site-packages (from datasets) (1.26.4)\n",
      "Requirement already satisfied: pyarrow>=15.0.0 in c:\\users\\liza_n\\appdata\\local\\programs\\python\\python311\\lib\\site-packages (from datasets) (17.0.0)\n",
      "Requirement already satisfied: dill<0.3.9,>=0.3.0 in c:\\users\\liza_n\\appdata\\local\\programs\\python\\python311\\lib\\site-packages (from datasets) (0.3.8)\n",
      "Requirement already satisfied: pandas in c:\\users\\liza_n\\appdata\\local\\programs\\python\\python311\\lib\\site-packages (from datasets) (2.2.2)\n",
      "Requirement already satisfied: requests>=2.32.2 in c:\\users\\liza_n\\appdata\\local\\programs\\python\\python311\\lib\\site-packages (from datasets) (2.32.3)\n",
      "Requirement already satisfied: tqdm>=4.66.3 in c:\\users\\liza_n\\appdata\\local\\programs\\python\\python311\\lib\\site-packages (from datasets) (4.66.5)\n",
      "Requirement already satisfied: xxhash in c:\\users\\liza_n\\appdata\\local\\programs\\python\\python311\\lib\\site-packages (from datasets) (3.5.0)\n",
      "Requirement already satisfied: multiprocess in c:\\users\\liza_n\\appdata\\local\\programs\\python\\python311\\lib\\site-packages (from datasets) (0.70.16)\n",
      "Requirement already satisfied: fsspec<=2024.6.1,>=2023.1.0 in c:\\users\\liza_n\\appdata\\local\\programs\\python\\python311\\lib\\site-packages (from fsspec[http]<=2024.6.1,>=2023.1.0->datasets) (2024.2.0)\n",
      "Requirement already satisfied: aiohttp in c:\\users\\liza_n\\appdata\\local\\programs\\python\\python311\\lib\\site-packages (from datasets) (3.10.10)\n",
      "Requirement already satisfied: huggingface-hub>=0.22.0 in c:\\users\\liza_n\\appdata\\local\\programs\\python\\python311\\lib\\site-packages (from datasets) (0.26.0)\n",
      "Requirement already satisfied: packaging in c:\\users\\liza_n\\appdata\\roaming\\python\\python311\\site-packages (from datasets) (23.2)\n",
      "Requirement already satisfied: pyyaml>=5.1 in c:\\users\\liza_n\\appdata\\local\\programs\\python\\python311\\lib\\site-packages (from datasets) (6.0.1)\n",
      "Requirement already satisfied: aiohappyeyeballs>=2.3.0 in c:\\users\\liza_n\\appdata\\local\\programs\\python\\python311\\lib\\site-packages (from aiohttp->datasets) (2.4.3)\n",
      "Requirement already satisfied: aiosignal>=1.1.2 in c:\\users\\liza_n\\appdata\\local\\programs\\python\\python311\\lib\\site-packages (from aiohttp->datasets) (1.3.1)\n",
      "Requirement already satisfied: attrs>=17.3.0 in c:\\users\\liza_n\\appdata\\local\\programs\\python\\python311\\lib\\site-packages (from aiohttp->datasets) (23.2.0)\n",
      "Requirement already satisfied: frozenlist>=1.1.1 in c:\\users\\liza_n\\appdata\\local\\programs\\python\\python311\\lib\\site-packages (from aiohttp->datasets) (1.4.1)\n",
      "Requirement already satisfied: multidict<7.0,>=4.5 in c:\\users\\liza_n\\appdata\\local\\programs\\python\\python311\\lib\\site-packages (from aiohttp->datasets) (6.1.0)\n",
      "Requirement already satisfied: yarl<2.0,>=1.12.0 in c:\\users\\liza_n\\appdata\\local\\programs\\python\\python311\\lib\\site-packages (from aiohttp->datasets) (1.15.5)\n",
      "Requirement already satisfied: typing-extensions>=3.7.4.3 in c:\\users\\liza_n\\appdata\\local\\programs\\python\\python311\\lib\\site-packages (from huggingface-hub>=0.22.0->datasets) (4.9.0)\n",
      "Requirement already satisfied: charset-normalizer<4,>=2 in c:\\users\\liza_n\\appdata\\local\\programs\\python\\python311\\lib\\site-packages (from requests>=2.32.2->datasets) (3.3.2)\n",
      "Requirement already satisfied: idna<4,>=2.5 in c:\\users\\liza_n\\appdata\\local\\programs\\python\\python311\\lib\\site-packages (from requests>=2.32.2->datasets) (3.6)\n",
      "Requirement already satisfied: urllib3<3,>=1.21.1 in c:\\users\\liza_n\\appdata\\local\\programs\\python\\python311\\lib\\site-packages (from requests>=2.32.2->datasets) (2.2.1)\n",
      "Requirement already satisfied: certifi>=2017.4.17 in c:\\users\\liza_n\\appdata\\local\\programs\\python\\python311\\lib\\site-packages (from requests>=2.32.2->datasets) (2024.2.2)\n",
      "Requirement already satisfied: colorama in c:\\users\\liza_n\\appdata\\roaming\\python\\python311\\site-packages (from tqdm>=4.66.3->datasets) (0.4.6)\n",
      "Requirement already satisfied: python-dateutil>=2.8.2 in c:\\users\\liza_n\\appdata\\roaming\\python\\python311\\site-packages (from pandas->datasets) (2.8.2)\n",
      "Requirement already satisfied: pytz>=2020.1 in c:\\users\\liza_n\\appdata\\local\\programs\\python\\python311\\lib\\site-packages (from pandas->datasets) (2024.1)\n",
      "Requirement already satisfied: tzdata>=2022.7 in c:\\users\\liza_n\\appdata\\local\\programs\\python\\python311\\lib\\site-packages (from pandas->datasets) (2024.1)\n",
      "Requirement already satisfied: six>=1.5 in c:\\users\\liza_n\\appdata\\roaming\\python\\python311\\site-packages (from python-dateutil>=2.8.2->pandas->datasets) (1.16.0)\n",
      "Requirement already satisfied: propcache>=0.2.0 in c:\\users\\liza_n\\appdata\\local\\programs\\python\\python311\\lib\\site-packages (from yarl<2.0,>=1.12.0->aiohttp->datasets) (0.2.0)\n"
     ]
    },
    {
     "name": "stderr",
     "output_type": "stream",
     "text": [
      "\n",
      "[notice] A new release of pip is available: 24.0 -> 24.2\n",
      "[notice] To update, run: python.exe -m pip install --upgrade pip\n"
     ]
    }
   ],
   "source": [
    "#!pip install datasets"
   ]
  },
  {
   "cell_type": "code",
   "execution_count": 6,
   "metadata": {},
   "outputs": [
    {
     "name": "stdout",
     "output_type": "stream",
     "text": [
      "Collecting git+https://github.com/allenai/ir_datasets.git\n",
      "  Cloning https://github.com/allenai/ir_datasets.git to c:\\users\\liza_n\\appdata\\local\\temp\\pip-req-build-czr6u28b\n",
      "  Resolved https://github.com/allenai/ir_datasets.git to commit ce73e6a90fcc07aa20bf3d98375f60abbad1a525\n",
      "  Preparing metadata (setup.py): started\n",
      "  Preparing metadata (setup.py): finished with status 'done'\n",
      "Requirement already satisfied: beautifulsoup4>=4.4.1 in c:\\users\\liza_n\\appdata\\local\\programs\\python\\python311\\lib\\site-packages (from ir_datasets==0.5.8) (4.12.3)\n",
      "Requirement already satisfied: inscriptis>=2.2.0 in c:\\users\\liza_n\\appdata\\local\\programs\\python\\python311\\lib\\site-packages (from ir_datasets==0.5.8) (2.5.0)\n",
      "Requirement already satisfied: lxml>=4.5.2 in c:\\users\\liza_n\\appdata\\local\\programs\\python\\python311\\lib\\site-packages (from ir_datasets==0.5.8) (5.2.2)\n",
      "Requirement already satisfied: numpy>=1.18.1 in c:\\users\\liza_n\\appdata\\local\\programs\\python\\python311\\lib\\site-packages (from ir_datasets==0.5.8) (1.26.4)\n",
      "Requirement already satisfied: pyyaml>=5.3.1 in c:\\users\\liza_n\\appdata\\local\\programs\\python\\python311\\lib\\site-packages (from ir_datasets==0.5.8) (6.0.1)\n",
      "Requirement already satisfied: requests>=2.22.0 in c:\\users\\liza_n\\appdata\\local\\programs\\python\\python311\\lib\\site-packages (from ir_datasets==0.5.8) (2.32.3)\n",
      "Requirement already satisfied: tqdm>=4.38.0 in c:\\users\\liza_n\\appdata\\local\\programs\\python\\python311\\lib\\site-packages (from ir_datasets==0.5.8) (4.66.5)\n",
      "Requirement already satisfied: trec-car-tools>=2.5.4 in c:\\users\\liza_n\\appdata\\local\\programs\\python\\python311\\lib\\site-packages (from ir_datasets==0.5.8) (2.6)\n",
      "Requirement already satisfied: lz4>=3.1.10 in c:\\users\\liza_n\\appdata\\local\\programs\\python\\python311\\lib\\site-packages (from ir_datasets==0.5.8) (4.3.3)\n",
      "Requirement already satisfied: warc3-wet>=0.2.3 in c:\\users\\liza_n\\appdata\\local\\programs\\python\\python311\\lib\\site-packages (from ir_datasets==0.5.8) (0.2.5)\n",
      "Requirement already satisfied: warc3-wet-clueweb09>=0.2.5 in c:\\users\\liza_n\\appdata\\local\\programs\\python\\python311\\lib\\site-packages (from ir_datasets==0.5.8) (0.2.5)\n",
      "Requirement already satisfied: zlib-state>=0.1.3 in c:\\users\\liza_n\\appdata\\local\\programs\\python\\python311\\lib\\site-packages (from ir_datasets==0.5.8) (0.1.9)\n",
      "Requirement already satisfied: ijson>=3.1.3 in c:\\users\\liza_n\\appdata\\local\\programs\\python\\python311\\lib\\site-packages (from ir_datasets==0.5.8) (3.3.0)\n",
      "Requirement already satisfied: unlzw3>=0.2.1 in c:\\users\\liza_n\\appdata\\local\\programs\\python\\python311\\lib\\site-packages (from ir_datasets==0.5.8) (0.2.2)\n",
      "Requirement already satisfied: soupsieve>1.2 in c:\\users\\liza_n\\appdata\\local\\programs\\python\\python311\\lib\\site-packages (from beautifulsoup4>=4.4.1->ir_datasets==0.5.8) (2.5)\n",
      "Requirement already satisfied: charset-normalizer<4,>=2 in c:\\users\\liza_n\\appdata\\local\\programs\\python\\python311\\lib\\site-packages (from requests>=2.22.0->ir_datasets==0.5.8) (3.3.2)\n",
      "Requirement already satisfied: idna<4,>=2.5 in c:\\users\\liza_n\\appdata\\local\\programs\\python\\python311\\lib\\site-packages (from requests>=2.22.0->ir_datasets==0.5.8) (3.6)\n",
      "Requirement already satisfied: urllib3<3,>=1.21.1 in c:\\users\\liza_n\\appdata\\local\\programs\\python\\python311\\lib\\site-packages (from requests>=2.22.0->ir_datasets==0.5.8) (2.2.1)\n",
      "Requirement already satisfied: certifi>=2017.4.17 in c:\\users\\liza_n\\appdata\\local\\programs\\python\\python311\\lib\\site-packages (from requests>=2.22.0->ir_datasets==0.5.8) (2024.2.2)\n",
      "Requirement already satisfied: colorama in c:\\users\\liza_n\\appdata\\roaming\\python\\python311\\site-packages (from tqdm>=4.38.0->ir_datasets==0.5.8) (0.4.6)\n",
      "Requirement already satisfied: cbor>=1.0.0 in c:\\users\\liza_n\\appdata\\local\\programs\\python\\python311\\lib\\site-packages (from trec-car-tools>=2.5.4->ir_datasets==0.5.8) (1.0.0)\n"
     ]
    },
    {
     "name": "stderr",
     "output_type": "stream",
     "text": [
      "  Running command git clone --filter=blob:none --quiet https://github.com/allenai/ir_datasets.git 'C:\\Users\\Liza_N\\AppData\\Local\\Temp\\pip-req-build-czr6u28b'\n",
      "\n",
      "[notice] A new release of pip is available: 24.0 -> 24.2\n",
      "[notice] To update, run: python.exe -m pip install --upgrade pip\n"
     ]
    }
   ],
   "source": [
    "#!pip install --upgrade git+https://github.com/allenai/ir_datasets.git"
   ]
  },
  {
   "cell_type": "code",
   "execution_count": 8,
   "metadata": {},
   "outputs": [
    {
     "data": {
      "application/vnd.jupyter.widget-view+json": {
       "model_id": "8facfa51381d47f0bb3c1e5657d44c54",
       "version_major": 2,
       "version_minor": 0
      },
      "text/plain": [
       "Loading dataset shards:   0%|          | 0/19 [00:00<?, ?it/s]"
      ]
     },
     "metadata": {},
     "output_type": "display_data"
    },
    {
     "data": {
      "application/vnd.jupyter.widget-view+json": {
       "model_id": "49fc289c39a74107ab45f088bbe4e1e8",
       "version_major": 2,
       "version_minor": 0
      },
      "text/plain": [
       "Loading dataset shards:   0%|          | 0/32 [00:00<?, ?it/s]"
      ]
     },
     "metadata": {},
     "output_type": "display_data"
    }
   ],
   "source": [
    "from datasets import load_dataset\n",
    "\n",
    "dataset = load_dataset('neuclir/neuclir1')"
   ]
  },
  {
   "cell_type": "code",
   "execution_count": 22,
   "metadata": {},
   "outputs": [
    {
     "name": "stdout",
     "output_type": "stream",
     "text": [
      "Article number 0: Сергей Аксёнов сообщил о регистрации в Крыму 247 новых случаев COVID-19 \n",
      " Глава Республики Крым Сергей Аксёнов сообщил на своей официальной странице в социальной сети «ВКонтакте» о регистрации 247 новых случаев коронавирусной инфекции в Крыму.\n",
      "Article number 1: Точно по печени: Тим Цзю простился с Австралией ярким нокаутом \n",
      " Австралийский боксёр российского происхождения Тимофей Цзю победил нокаутом в третьем раунде австралийца Стива Спарка и отстоял свой чемпионский титул WBO Global в первом среднем весе. Теперь сын бывшего абсолютного чемпиона мира намерен продолжить карьеру в Америке или в России и завоевать чемпионский титул в поединках с более серьёзными соперниками.\n",
      "\n",
      "Прощальные гастроли\n",
      "\n",
      "Ещё перед боем со Стивом Спарком Тимофей Цзю заявил, что скорее всего этот поединок станет последним для него на Зелёном континенте. Сын легендарного чемпиона уже вырос из детских штанишек и удобных соперников и готов к серьёзным вызовам. Это стало ясно ещё год назад после его победы над Джеффом Хорном, однако пандемия отложила его американскую экспансию. Вот и в качестве партнёра по американским гастролям он видел куда более известного Майкла Зерафу, но судьба сложилась так, что Красавчик соскочил с этого боя, а на замену ему вышел полный ноунейм.\n",
      "\n",
      "Менять планы Цзю-младшему сейчас не было никакого смысла. Объявленный заранее бой — возможность и заработать, и ярко попрощаться с родной страной, а соперник в этой ситуации не имеет большого значения. Тем более многие эксперты пытались убедить фанатов, что более молодой и голодный Спарк куда интереснее и опаснее ветерана Зерафы, который не побрезговал в последнем бою побить 46-летнего легендарного аборигена Энтони Мандина.\n",
      "\n",
      "Тимофей Цзю timtszyu/instagram.com\n",
      "\n",
      "После очередной защиты глобального титула WBO у Тимофея один путь — ехать в Америку и драться там с сильнейшими, тем более что в его весе уже намечается гегемон, объединяющий в своих руках все пояса — Джермелл Чарло. Но даже если сейчас потомственный боксёр не готов к таким вызовам, ему стоит зарекомендовать себя перед американской публикой и, может быть, провести пару боёв на крупных турнирах, прежде чем выходить на Чарло. Примерно такой же точки зрения придерживается и его отец Константин Цзю, который не исключал и боя сына в России. Но сначала нужно было победить Спарка.\n",
      "\n",
      "Даже не вспотел\n",
      "\n",
      "Преимуществом Спарка в бою с Тимофеем могла стать разве что скорость. Всё-таки он выступал в более лёгкой весовой категории и при этом отличался резкостью и молниеносным ударом, однако большинство его соперников были откровенными мешками. Достаточно привести в пример то, что единственный оппонент 24-летнего австралийца Джек Брубейкер, достоявший с ним до финального гонга, был нокаутирован Цзю в четвёртом раунде.\n",
      "\n",
      "Тем не менее в первом раунде у Тимофея возникла проблема с джебом соперника. Несколько раз он нарывался на его неплотные одиночные удары, но в концовке всё же забрал инициативу и в дальнейшем взял ход боя под свой контроль. Во второй трёхминутке Спарк пару раз оказывался запертым в угол, где с него спрашивали уже по полной программе. Особенно Тиму удавались боковые удары. В третьем раунде наступил и окончательный расчёт, когда после очередной серии с акцентом на корпус Спарк опустился на колено после удара в печень. Небольшая передышка особо ему не помогла, а Цзю бросился атаковать «пробоину» соперника. После второго такого потрясения рефери уже остановил бой.\n",
      "\n",
      "#TszyuSpark Tszyu wins in Round 3 - drops Spark twice with body shots and ref stops fight pic.twitter.com/XxYMeRKTgi — Grantlee Kieza OAM (@Grantlee_Kieza) July 7, 2021\n",
      "\n",
      "Чарло, Головкин или Курбанов\n",
      "\n",
      "Теперь Тимофей Цзю является претендентом на титул чемпиона мира по версии WBO. Пока этот пояс принадлежит аргентинцу Брайану Карлосу Кастано, но уже через 10 дней может оказаться в руках одного из американских близнецов Джермелла Чарло. Вопрос в том, готов ли Тимофей уже сейчас к столь серьёзному росту уровня оппозиции и встрече с лучшим боксёром первого среднего веса. В то же время существует возможность провести один-два поединка с топовыми соперниками из первой десятки, чтобы сперва познакомиться с американским зрителем и американским боксом, а уже после этого выходить на Чарло.\n",
      "\n",
      "Тимофей Цзю championat.com\n",
      "\n",
      "Однако это не единственная цель Тимофея. Ранее в одном из интервью он заявил, что мечтает о поединке с Геннадием Головкиным. В тот момент его отец Константин объективно говорил, что время этой встречи ещё не пришло, но поскольку Головкин стремительно мчится к 40-летнему юбилею, теряя былые скорость и подвижность, а Цзю растёт от боя к бою, всё больше делая ставку на свой удар, эта встреча может стать актуальной уже в следующем году и пройти как в Америке, так и в России.\n",
      "\n",
      "Дебют на исторической родине может состояться и с другим претендентом по линии WBO, таким же небитым домашним боксёром, как Тим, Магомедом Курбановым, который сделал себе карьеру в промоутерской компании RCC и дрался в основном на Урале, в том числе и в претендентском бою с британцем Лайамом Смитом. Бой с Курбановым мог бы стать значимым событием для российского бокса и пройти в столице. От того, какую стратегию в ближайшее время выберет команда Цзю, будут зависеть его перспективы повторить путь отца, но при этом именно новый уровень соперников покажет его истинные возможности в профессиональном боксе.\n",
      "Article number 2: Олег Газманов заявил о готовности завершить музыкальную карьеру \n",
      " Народный артист России Олег Газманов заявил, что готов завершить музыкальную карьеру. Сейчас он в туре, и по его словам, он может стать последним, передаёт ТАСС.\n",
      "\n",
      "В настоящий момент Газманов гастролирует с программой «7:0 в мою пользу», приуроченной к 70-летию. Юбилей артист отметит 22 июля. Певец не исключает, что после тура может объявить о конце карьеры.\n",
      "\n",
      "При этом Газманов подчеркнул , что если и сделает соответствующее заявление, то точно не для того, чтобы привлечь публику на последние концерты. По его словам, с количеством поклонников у него и так всё в порядке.\n",
      "\n",
      "Олег Газманов давно стал изюминкой любого концерта. На его песнях выросла современная молодёжь и их родители. Самыми популярными его песнями считаются «Мои ясные дни», «Морячка», «Офицеры», «Есаул» и другие. Артист был дважды женат, воспитывает троих детей. Второй супруге, с которой Газманов живёт и сегодня, он посвятил песни «Моя любовь» и «Единственная моя».\n",
      "\n",
      "Ранее сообщалось, что менеджер американской певицы Бритни Спирс Ларри Рудольф уволился и заявил, что исполнительница планирует завершить карьеру. Он работал с ней с 90-х.\n",
      "Article number 3: Электромонтер готов признать часть вины в пожаре во Владимирском театре \n",
      " Ему грозит крупный штраф.\n",
      "\n",
      "Во Владимире продолжается над 54-летним Александром Шеменёвым, которого обвиняют в пожаре в здании . На процессе начали допрашивать свидетелей происшествия.В роли потерпевшей стороны в разбирательствах участвует директор учреждения Борис Гунин.«О пожаре я узнал после звонка от сотрудницы охраны. Я находился далеко и смог приехать только через 40 минут. К тому времени пожар уже потушили», - отметил он.МЧС вызвала сотрудница охраны Надежда Николина. Она подтвердила, что в театре проводились электромонтажные работы. В определённый момент сотрудник театра прибежал и сообщил ей о пожаре.В свою очередь, сторона защиты заявила, что их подопечный готов частично признать вину. Однако адвокат считает, что на скамье подсудимых должны сидеть и те, кто отвечает за противопожарную безопасность в театре драмы.«В расследовании допущены нарушения. Оно проведено не полностью», - подчеркнул адвокат подсудимого Сергей Будыкин.При этом Борис Гунин заверил, что системы пожаротушения в здании находились в исправном состоянии. Ни одна проверка пожарной инспекции не выявила нарушений.По версии гособвинения, огонь в помещении вспыхнул от искры во время сварочных работ. Сначала загорелись шторы, потом стены и спинки кресел. Площадь возгорания составила 500 квадратных метров. Ущерб оценили в 353 млн рублей.«Обвиняемый пользовался сварочным аппаратом, который изготовлен кустарно. Будучи допущенным к работе на электроустановках с напряжением 1000 Вт и выше, он знал, что при работе образуется ультрафиолетовое излучение от горящей дуги», - рассказал помощник прокурора Владимира Андрей Романов.Следующее заседание состоится 22 июля. Всего планируется выслушать 10 свидетелей. Подсудимому грозит крупный штраф.Интересно, что в производстве находится ещё одно дело, в котором обвиняемой стороной выступает подрядчик.\n",
      "Article number 4: «Каждое утро я прихожу на пляж и прошу у моря вернуть мне Сашу». Пермячка верит, что ее утонувший муж до сих пор жив \n",
      " Александр и Ольга. Фото со страницы Ольги/ВКонтакте\n",
      "\n",
      "- Это, наверное, глупо, но каждое утро, пока дети спят, я прихожу на пляж и прошу у моря вернуть моего мужа, - не сдерживая слез говорит жительница Гремячинска Ольга.\n",
      "\n",
      "Накануне семья из Гремячинска Пермского каря приехала на отдых в Краснодарский край. Остановились в гостинице Лазурит в селе Виятзево - это небольшой и уютный курортный поселок в 10 километрах от Анапы. Он омывается Черным морем и Витязевским лиманом, здесь песчаные и чистые пляжи, а море нагревается очень быстро.\n",
      "\n",
      "В понедельник, 5 июля, Ольга вместе с мужем Александром и двумя детьми - 13-летней дочькой и 5-летним сынишкой - пошли купаться на пляж Аквамарин.\n",
      "\n",
      "- Саша пошел купаться с дочерью чуть дальше от нас, - вспоминает Ольга. - Вдруг дочь подбегает ко мне и говорит «Мама, я потеряла папу, на нас пошла волна, и он пропал из виду». Я прибежала на место, но в воде было столько людей, что разглядеть мужа было невозможно, долгое время я завала его, надеялась, что он вот-вот появится из воды, но он так и не вынурнул.\n",
      "\n",
      "Ольга обратилась к спасателям, полицейским и волонетрам, но пока найти мужчину не удалось. Да и после недавнего наводнения в Краснодарском крае у спасателей и волонтеров хватает работы, поэтому неизвестно, как активно они будут участвовать в поисках.\n",
      "\n",
      "Ольга до сих пор не может понять, что могло произойти в воде. Ведь ее дочь с мужем купались совсем недалеко от берега. Да и сам Александр молод, здоров и достаточно неплохо плавает. Сейчас Ольга осталась на курорте с двумя маленькими детьми, ни местность, ни людей она не знает. Женщина просит всех неравнодушных людей помочь в поисках ее мужа. Семья верит в чудо и надеется, что Александр может быть жив. Всем, кто хочет помочь Ольге, просят писать ей на страницу в социальной сети.\n",
      "\n",
      "ЧИТАЙТЕ ТАКЖЕ\n",
      "\n",
      "«Верю, что он жив». Неравнодушных пермяков просят выйти на поиски 29-летнего Арсения Воронцова\n",
      "\n",
      "Мужчина пропал больше месяца назад (Подробнее..)\n",
      "Article number 5: Forbes опубликовал рейтинг самых богатых госслужащих и депутатов \n",
      " Доходы чиновников и депутатов России в 2020 году суммарно выросли на 10 млрд рублей. Это свидетельствует из исследования журнала Forbes, обновившего рейтинг «100 госслужащих и депутатов — 2021» — по сравнению с прошлым годом, доход сотни самых богатых семей госслужащих возрос с 65,8 до 75,9 млрд рублей, следует из их деклараций.\n",
      "\n",
      "Реклама\n",
      "\n",
      "Так, возглавил данный рейтинг депутат законодательного собрания Челябинской области и параллельно президент «Южуралзолота» Константин Струков. По итогам прошлого года бизнесмен занимал третье место в рейтинге, тогда как за 2020-й доход его семьи составил более 8,6 млрд рублей — это на 3,5 млрд руб. больше, чем в предыдущей версии рейтинга. Forbes связывает первенство Струкова с историческими показателями цен на золото.\n",
      "\n",
      "На второй строчке рейтинга изменений не произошло — ее занимает депутат законодательного собрания Камчатского края, совладелец дальневосточной рыбопромысловой компании «Океанрыбфлот» Игорь Евтушок. Его семья задекларировала 7,7 млрд рублей при том, что годом ранее их доходы составили 5,5 млрд рублей. Причем 2,7 млрд рублей из общего бюджета приходятся на доходы супруги чиновника.\n",
      "\n",
      "по теме\n",
      "\n",
      "На третье место с первого опустился депутат Сахалинской областной думы Дмитрий Пашов, который за год увеличил свой доход с 6,2 до 6,3 млрд руб. Это произошло несмотря на то, что в марте 2021-го чиновник был арестован и сейчас находится в СИЗО по делу об уклонении от уплаты таможенных платежей.\n",
      "\n",
      "Единственным новичком в топ-10 госслужащих с рекордным доходом попал депутат Белгородской областной думы Сергей Гусев с доходом в более чем 2,2 млрд рублей. Среди представителей Совета Федерации самым богатым оказался сенатор Валерий Пономарев, совладелец «Океанрыбфлота» и акционер Интерпромбанка, чье состояние превышает 4,2 млрд.\n",
      "\n",
      "Также, как отмечает finanz.ru, суммарные доходы (43,7 млрд рублей) первой десятки, представленной Forbes, оказались выше годового бюджета сразу 13 регионов страны с населением почти 6 млн человек. Об этом говорят данные Федерального казначейства.\n",
      "\n",
      "С полным списком рейтинга можно ознакомиться на сайте Forbes. Журнал уточняет, что финальная версия подсчетов может отличаться от нынешней версии, поскольку еще не все органы власти опубликовали свои декларации.\n",
      "\n",
      "Доходы населения и президента\n",
      "\n",
      "Слабым звеном российской экономики остаются реальные доходы населения, говорится в отчете Минэкономразвития от 1 июня. Об этом же свидетельствуют данные доклада, который опубликовал Росстат в апреле 2021-го.\n",
      "\n",
      "Реальные располагаемые денежные доходы россиян в I квартале 2021 года упали на 3,6% по сравнению с докризисным I кварталом 2020-го. В целом же за 2020-й снижение доходов население, если сравнивать с 2019-м, составило 3%. Эта динамика совпала с прогнозами правительства. В Кремле, оценивая ситуацию с падением доходов россиян, подчеркнули, что тенденция остается достаточно напряженной. Как говорил пресс-секретарь президента Дмитрий Песков, статистика показывает необходимость дальнейшей скоординированной работы.\n",
      "\n",
      "Минэкономразвития в свою очередь прогнозирует, что рост реальных располагаемых доходов населения в 2021 году составит 3,0%, в то время как прогноз по росту реальных заработных плат снизился с 2,2% до 2%.\n",
      "\n",
      "Вместе с тем вырос годовой доход президента России Владимира Путина, о чем говорится в декларации, опубликованной Кремлем. За 2020 год глава государства задекларировал 9,99 млн рублей, что выше, чем было в 2019-м — 9,72 млн, не изменив список имущества — в пользовании президента находится квартира, гараж, два автомобиля отечественного производства и прицеп «Скиф». Максимальный доход президента был зафиксирован в 2017-м году и составил тогда 18,7 млн руб.\n",
      "Article number 6: Пресвитериане в США запретили геям занимать должности в церквях \n",
      " Должностные лица в церквях должны быть безупречными в своем образе жизни\n",
      "\n",
      "ВАШИНГТОН. Протестантская пресвитерианская церковь Америки на своем ежегодном собрании в Сент-Луисе, штат Миссури, приняла резолюцию, согласно которой открытые геи не могут занимать церковные должности, сообщает СПЖ со ссылкой на Kath.net.\n",
      "\n",
      "В документе сказано, что «должностные лица должны быть безупречными в своем образе жизни и быть похожими на Христа по характеру». Следовательно, «те, кто исповедует идентичность, противоречащую их принадлежности к новому творению во Христе, не могут вступить в должность», – подчеркивается в резолюции.\n",
      "\n",
      "Причиной отказа в занятии церковной должности также может быть отрицание греховности гомосексуальных действий. Поэтому кандидат должен дать «ясное свидетельство о своей уверенности в отношениях с Иисусом Христом и дарах благодати Святого Духа для преодоления греха».\n",
      "Article number 7: Медики Владимирской области получили ключи от новых легковых машин \n",
      " Два друга: - Хотел бы ты, чтобы всех мудаков посадили в космический корабль и отправили в другую галактику? - Неа. - А я бы хотел! - Ну если ты улетишь, с кем я тогда дружить буду? ! еще анекдот!\n",
      "Article number 8: «Амкар» начнет сезон с выезда в Барнаул \n",
      " Фото: ФК \"Амкар-Пермь\"\n",
      "\n",
      "ФК «Амкар-Пермь» сыграет первый официальный матч в новой истории 20 июля в Барнауле против местного «Динамо» (0+). Следующая игра (против «Иртыша») также пройдет на выезде, но в другом сибирском городе – Омске и состоится через 3 дня, 23 июля (0+). Об этом рассказали в клубной пресс-службе.\n",
      "\n",
      "Дома пермский болельщик увидит команду 1 августа. В Перми «красно-черные» примут один из сильнейших клубов группы – ФК «Тюмень» (0+).\n",
      "\n",
      "Матчи с другим пермским клубом – ФК «Звезда» – запланированы на 26 сентября и 14 ноября (оба 0+).\n",
      "\n",
      "Завершится сезон для «Амкара» 4 июня 2022 года. Тогда наш клуб вновь встретится с барнаульским «Динамо» (0+).\n",
      "\n",
      ".\n",
      "Article number 9: Аксёнов пригрозил нарушителям ковидных ограничений отключить свет и воду \n",
      " Нарушителей коронавирусных ограничений в Крыму могут оставить без воды и электричества. Об этом заявил глава региона Сергей Аксёнов, пишет «МК в Крыму».\n",
      "\n",
      "По его словам, жёсткие санкции будут грозить предпринимателям, которые не соблюдают масочный режим и не выполняют требования Роспотребнадзора. Таких бизнесменов также лишат поддержки государства.\n",
      "\n",
      "У нас с вами ЧС, режим пандемии. Меня интересует выполнение требований, — сказал глава Крыма.\n",
      "\n",
      "Аксёнов сообщил, что для фиксации нарушений будет создан специальный реестр. В случае если выявленное нарушение не было устранено, то предприятия в него внесут.\n",
      "\n",
      "Ранее министр здравоохранения Михаил Мурашко заявил, что в России введены «очень мягкие» ограничения из-за коронавируса. Он также отметил, что на противодействие распространению COVID-19 власти уже потратили больше триллиона рублей.\n",
      "Article number 10: Райффайзенбанк обновил сервис сторис в мобильном приложении для предпринимателей \n",
      " Фото: Райффайзенбанк\n",
      "\n",
      "Сторис в мобильном приложении Райффайзен Бизнес Онлайн теперь помогут быстрее найти нужный сервис или перейти в чат со специалистом, чтобы задать вопрос. Новый функционал позволяет сразу перейти к нужному продукту или получить информацию о нем на сайте или в мобильном приложении.\n",
      "\n",
      "«В сторис мы публикуем новости и исследования, чтобы у предпринимателя был быстрый доступ к рабочему контенту в одном источнике. Это позволяет экономить время на поиск и анализ информации, быстрее реагировать на изменения. Также из сторис можно быстро перейти на страницу нужного продукта на сайте или связаться со специалистом банка в чате», - отметила Мария Горенко, руководитель направления по развитию малого бизнеса Райффайзенбанка в Сибирско-Уральском макрорегионе.\n"
     ]
    }
   ],
   "source": [
    "data_ru= dataset['rus']\n",
    "\n",
    "for i in range(11):\n",
    "    title = data_ru[i]['title']\n",
    "    text = data_ru[i]['text']\n",
    "\n",
    "    print(f'Article number {i}: {title} \\n {text}')\n"
   ]
  },
  {
   "cell_type": "markdown",
   "metadata": {},
   "source": [
    "Explore tokenizers suitable for Russian language:"
   ]
  },
  {
   "cell_type": "code",
   "execution_count": 26,
   "metadata": {},
   "outputs": [
    {
     "name": "stdout",
     "output_type": "stream",
     "text": [
      "['Сергей', 'Аксёнов', 'сообщил', 'о', 'регистрации', 'в', 'Крыму', '247', 'новых', 'случаев', 'COVID-19']\n",
      "['Глава', 'Республики', 'Крым', 'Сергей', 'Аксёнов', 'сообщил', 'на', 'своей', 'официальной', 'странице', 'в', 'социальной', 'сети', '«', 'ВКонтакте', '»', 'о', 'регистрации', '247', 'новых', 'случаев', 'коронавирусной', 'инфекции', 'в', 'Крыму', '.']\n"
     ]
    }
   ],
   "source": [
    "# NLTK \n",
    "import nltk\n",
    "from nltk import word_tokenize\n",
    "\n",
    "test_title = data_ru[0]['title']\n",
    "test_text = data_ru[0]['text']\n",
    "\n",
    "title_tokenized = nltk.word_tokenize(test_title, language='russian')\n",
    "text_tokenized = nltk.word_tokenize(test_text, language='russian')\n",
    "print(title_tokenized)\n",
    "print(text_tokenized)"
   ]
  },
  {
   "cell_type": "code",
   "execution_count": 58,
   "metadata": {},
   "outputs": [
    {
     "name": "stdout",
     "output_type": "stream",
     "text": [
      "Collecting sacremoses\n",
      "  Downloading sacremoses-0.1.1-py3-none-any.whl.metadata (8.3 kB)\n",
      "Requirement already satisfied: regex in c:\\users\\liza_n\\appdata\\local\\programs\\python\\python311\\lib\\site-packages (from sacremoses) (2023.12.25)\n",
      "Requirement already satisfied: click in c:\\users\\liza_n\\appdata\\local\\programs\\python\\python311\\lib\\site-packages (from sacremoses) (8.1.7)\n",
      "Requirement already satisfied: joblib in c:\\users\\liza_n\\appdata\\local\\programs\\python\\python311\\lib\\site-packages (from sacremoses) (1.3.2)\n",
      "Requirement already satisfied: tqdm in c:\\users\\liza_n\\appdata\\local\\programs\\python\\python311\\lib\\site-packages (from sacremoses) (4.64.1)\n",
      "Requirement already satisfied: colorama in c:\\users\\liza_n\\appdata\\roaming\\python\\python311\\site-packages (from click->sacremoses) (0.4.6)\n",
      "Downloading sacremoses-0.1.1-py3-none-any.whl (897 kB)\n",
      "   ---------------------------------------- 0.0/897.5 kB ? eta -:--:--\n",
      "   ---------------------------------------- 0.0/897.5 kB ? eta -:--:--\n",
      "   ---------------------------------------- 10.2/897.5 kB ? eta -:--:--\n",
      "   - ------------------------------------- 41.0/897.5 kB 495.5 kB/s eta 0:00:02\n",
      "   --------- ------------------------------ 204.8/897.5 kB 1.8 MB/s eta 0:00:01\n",
      "   ------------------------- -------------- 563.2/897.5 kB 3.2 MB/s eta 0:00:01\n",
      "   ---------------------------------------  890.9/897.5 kB 4.3 MB/s eta 0:00:01\n",
      "   ---------------------------------------- 897.5/897.5 kB 3.8 MB/s eta 0:00:00\n",
      "Installing collected packages: sacremoses\n",
      "Successfully installed sacremoses-0.1.1\n"
     ]
    },
    {
     "name": "stderr",
     "output_type": "stream",
     "text": [
      "\n",
      "[notice] A new release of pip is available: 24.0 -> 24.2\n",
      "[notice] To update, run: python.exe -m pip install --upgrade pip\n"
     ]
    }
   ],
   "source": [
    "#!pip install sacremoses"
   ]
  },
  {
   "cell_type": "code",
   "execution_count": 59,
   "metadata": {},
   "outputs": [
    {
     "name": "stdout",
     "output_type": "stream",
     "text": [
      "['Сергей', 'Аксёнов', 'сообщил', 'о', 'регистрации', 'в', 'Крыму', '247', 'новых', 'случаев', 'COVID-19']\n",
      "['Глава', 'Республики', 'Крым', 'Сергей', 'Аксёнов', 'сообщил', 'на', 'своей', 'официальной', 'странице', 'в', 'социальной', 'сети', '«', 'ВКонтакте', '»', 'о', 'регистрации', '247', 'новых', 'случаев', 'коронавирусной', 'инфекции', 'в', 'Крыму', '.']\n"
     ]
    }
   ],
   "source": [
    "# Moses tokenizer (removed from NLTK in 2018 due to licensing issues)\n",
    "from sacremoses import MosesTokenizer, MosesDetokenizer\n",
    "mt = MosesTokenizer(lang='ru')\n",
    "\n",
    "title_tokenized = mt.tokenize(test_title)\n",
    "text_tokenized = mt.tokenize(test_text)\n",
    "print(title_tokenized)\n",
    "print(text_tokenized)"
   ]
  },
  {
   "cell_type": "code",
   "execution_count": null,
   "metadata": {},
   "outputs": [],
   "source": []
  },
  {
   "cell_type": "code",
   "execution_count": 30,
   "metadata": {},
   "outputs": [
    {
     "name": "stdout",
     "output_type": "stream",
     "text": [
      "Requirement already satisfied: razdel in c:\\users\\liza_n\\appdata\\local\\programs\\python\\python311\\lib\\site-packages (0.5.0)\n"
     ]
    },
    {
     "name": "stderr",
     "output_type": "stream",
     "text": [
      "\n",
      "[notice] A new release of pip is available: 24.0 -> 24.2\n",
      "[notice] To update, run: python.exe -m pip install --upgrade pip\n"
     ]
    }
   ],
   "source": [
    "# razdel - python library, part of the project Natasha https://github.com/natasha (tools for Russian NLP)\n",
    "# rule-based, optimized for well-written texts with correct pucntuation (e.g. news articles). \n",
    "# I.e. if there is no whitespace between sentences, etc, razdel will make an error\n",
    "#!pip install razdel"
   ]
  },
  {
   "cell_type": "code",
   "execution_count": 34,
   "metadata": {},
   "outputs": [
    {
     "name": "stdout",
     "output_type": "stream",
     "text": [
      "['Сергей', 'Аксёнов', 'сообщил', 'о', 'регистрации', 'в', 'Крыму', '247', 'новых', 'случаев', 'COVID-19']\n",
      "['Глава', 'Республики', 'Крым', 'Сергей', 'Аксёнов', 'сообщил', 'на', 'своей', 'официальной', 'странице', 'в', 'социальной', 'сети', '«', 'ВКонтакте', '»', 'о', 'регистрации', '247', 'новых', 'случаев', 'коронавирусной', 'инфекции', 'в', 'Крыму', '.']\n"
     ]
    }
   ],
   "source": [
    "from razdel import tokenize\n",
    "\n",
    "tokens1 = list(tokenize(test_title))\n",
    "title_tokenized = [_.text for _ in tokens1]\n",
    "\n",
    "tokens2 = list(tokenize(test_text))\n",
    "text_tokenized = [_.text for _ in tokens2]\n",
    "\n",
    "print(title_tokenized)\n",
    "print(text_tokenized)"
   ]
  },
  {
   "cell_type": "code",
   "execution_count": null,
   "metadata": {},
   "outputs": [],
   "source": [
    "# MyStem by Yandex\n",
    "# https://cachev2-ams21.cdn.yandex.net/download.yandex.ru/company/iseg-las-vegas.pdf?lid=300\n",
    "#doesn't seem to have a separate tokenizer, can do lemmatization straight"
   ]
  },
  {
   "cell_type": "code",
   "execution_count": 45,
   "metadata": {},
   "outputs": [
    {
     "name": "stdout",
     "output_type": "stream",
     "text": [
      "Requirement already satisfied: spacy in c:\\users\\liza_n\\appdata\\local\\programs\\python\\python311\\lib\\site-packages (3.8.2)"
     ]
    },
    {
     "name": "stderr",
     "output_type": "stream",
     "text": [
      "\n",
      "[notice] A new release of pip is available: 24.0 -> 24.2\n",
      "[notice] To update, run: python.exe -m pip install --upgrade pip\n"
     ]
    },
    {
     "name": "stdout",
     "output_type": "stream",
     "text": [
      "\n",
      "Requirement already satisfied: spacy-legacy<3.1.0,>=3.0.11 in c:\\users\\liza_n\\appdata\\local\\programs\\python\\python311\\lib\\site-packages (from spacy) (3.0.12)\n",
      "Requirement already satisfied: spacy-loggers<2.0.0,>=1.0.0 in c:\\users\\liza_n\\appdata\\local\\programs\\python\\python311\\lib\\site-packages (from spacy) (1.0.5)\n",
      "Requirement already satisfied: murmurhash<1.1.0,>=0.28.0 in c:\\users\\liza_n\\appdata\\local\\programs\\python\\python311\\lib\\site-packages (from spacy) (1.0.10)\n",
      "Requirement already satisfied: cymem<2.1.0,>=2.0.2 in c:\\users\\liza_n\\appdata\\local\\programs\\python\\python311\\lib\\site-packages (from spacy) (2.0.8)\n",
      "Requirement already satisfied: preshed<3.1.0,>=3.0.2 in c:\\users\\liza_n\\appdata\\local\\programs\\python\\python311\\lib\\site-packages (from spacy) (3.0.9)\n",
      "Requirement already satisfied: thinc<8.4.0,>=8.3.0 in c:\\users\\liza_n\\appdata\\local\\programs\\python\\python311\\lib\\site-packages (from spacy) (8.3.2)\n",
      "Requirement already satisfied: wasabi<1.2.0,>=0.9.1 in c:\\users\\liza_n\\appdata\\local\\programs\\python\\python311\\lib\\site-packages (from spacy) (1.1.3)\n",
      "Requirement already satisfied: srsly<3.0.0,>=2.4.3 in c:\\users\\liza_n\\appdata\\local\\programs\\python\\python311\\lib\\site-packages (from spacy) (2.4.8)\n",
      "Requirement already satisfied: catalogue<2.1.0,>=2.0.6 in c:\\users\\liza_n\\appdata\\local\\programs\\python\\python311\\lib\\site-packages (from spacy) (2.0.10)\n",
      "Requirement already satisfied: weasel<0.5.0,>=0.1.0 in c:\\users\\liza_n\\appdata\\local\\programs\\python\\python311\\lib\\site-packages (from spacy) (0.4.1)\n",
      "Requirement already satisfied: typer<1.0.0,>=0.3.0 in c:\\users\\liza_n\\appdata\\roaming\\python\\python311\\site-packages (from spacy) (0.9.0)\n",
      "Requirement already satisfied: tqdm<5.0.0,>=4.38.0 in c:\\users\\liza_n\\appdata\\local\\programs\\python\\python311\\lib\\site-packages (from spacy) (4.64.1)\n",
      "Requirement already satisfied: requests<3.0.0,>=2.13.0 in c:\\users\\liza_n\\appdata\\local\\programs\\python\\python311\\lib\\site-packages (from spacy) (2.32.3)\n",
      "Requirement already satisfied: pydantic!=1.8,!=1.8.1,<3.0.0,>=1.7.4 in c:\\users\\liza_n\\appdata\\local\\programs\\python\\python311\\lib\\site-packages (from spacy) (1.10.18)\n",
      "Requirement already satisfied: jinja2 in c:\\users\\liza_n\\appdata\\local\\programs\\python\\python311\\lib\\site-packages (from spacy) (3.1.3)\n",
      "Requirement already satisfied: setuptools in c:\\users\\liza_n\\appdata\\local\\programs\\python\\python311\\lib\\site-packages (from spacy) (70.0.0)\n",
      "Requirement already satisfied: packaging>=20.0 in c:\\users\\liza_n\\appdata\\roaming\\python\\python311\\site-packages (from spacy) (23.2)\n",
      "Requirement already satisfied: langcodes<4.0.0,>=3.2.0 in c:\\users\\liza_n\\appdata\\local\\programs\\python\\python311\\lib\\site-packages (from spacy) (3.4.1)\n",
      "Requirement already satisfied: numpy>=1.19.0 in c:\\users\\liza_n\\appdata\\local\\programs\\python\\python311\\lib\\site-packages (from spacy) (2.0.2)\n",
      "Requirement already satisfied: language-data>=1.2 in c:\\users\\liza_n\\appdata\\local\\programs\\python\\python311\\lib\\site-packages (from langcodes<4.0.0,>=3.2.0->spacy) (1.2.0)\n",
      "Requirement already satisfied: typing-extensions>=4.2.0 in c:\\users\\liza_n\\appdata\\local\\programs\\python\\python311\\lib\\site-packages (from pydantic!=1.8,!=1.8.1,<3.0.0,>=1.7.4->spacy) (4.9.0)\n",
      "Requirement already satisfied: charset-normalizer<4,>=2 in c:\\users\\liza_n\\appdata\\local\\programs\\python\\python311\\lib\\site-packages (from requests<3.0.0,>=2.13.0->spacy) (3.3.2)\n",
      "Requirement already satisfied: idna<4,>=2.5 in c:\\users\\liza_n\\appdata\\local\\programs\\python\\python311\\lib\\site-packages (from requests<3.0.0,>=2.13.0->spacy) (3.6)\n",
      "Requirement already satisfied: urllib3<3,>=1.21.1 in c:\\users\\liza_n\\appdata\\local\\programs\\python\\python311\\lib\\site-packages (from requests<3.0.0,>=2.13.0->spacy) (2.2.1)\n",
      "Requirement already satisfied: certifi>=2017.4.17 in c:\\users\\liza_n\\appdata\\local\\programs\\python\\python311\\lib\\site-packages (from requests<3.0.0,>=2.13.0->spacy) (2024.2.2)\n",
      "Requirement already satisfied: blis<1.1.0,>=1.0.0 in c:\\users\\liza_n\\appdata\\local\\programs\\python\\python311\\lib\\site-packages (from thinc<8.4.0,>=8.3.0->spacy) (1.0.1)\n",
      "Requirement already satisfied: confection<1.0.0,>=0.0.1 in c:\\users\\liza_n\\appdata\\local\\programs\\python\\python311\\lib\\site-packages (from thinc<8.4.0,>=8.3.0->spacy) (0.1.5)\n",
      "Requirement already satisfied: colorama in c:\\users\\liza_n\\appdata\\roaming\\python\\python311\\site-packages (from tqdm<5.0.0,>=4.38.0->spacy) (0.4.6)\n",
      "Requirement already satisfied: click<9.0.0,>=7.1.1 in c:\\users\\liza_n\\appdata\\local\\programs\\python\\python311\\lib\\site-packages (from typer<1.0.0,>=0.3.0->spacy) (8.1.7)\n",
      "Requirement already satisfied: cloudpathlib<1.0.0,>=0.7.0 in c:\\users\\liza_n\\appdata\\local\\programs\\python\\python311\\lib\\site-packages (from weasel<0.5.0,>=0.1.0->spacy) (0.20.0)\n",
      "Requirement already satisfied: smart-open<8.0.0,>=5.2.1 in c:\\users\\liza_n\\appdata\\local\\programs\\python\\python311\\lib\\site-packages (from weasel<0.5.0,>=0.1.0->spacy) (7.0.4)\n",
      "Requirement already satisfied: MarkupSafe>=2.0 in c:\\users\\liza_n\\appdata\\local\\programs\\python\\python311\\lib\\site-packages (from jinja2->spacy) (2.1.5)\n",
      "Requirement already satisfied: marisa-trie>=0.7.7 in c:\\users\\liza_n\\appdata\\local\\programs\\python\\python311\\lib\\site-packages (from language-data>=1.2->langcodes<4.0.0,>=3.2.0->spacy) (1.2.1)\n",
      "Requirement already satisfied: wrapt in c:\\users\\liza_n\\appdata\\local\\programs\\python\\python311\\lib\\site-packages (from smart-open<8.0.0,>=5.2.1->weasel<0.5.0,>=0.1.0->spacy) (1.14.1)\n"
     ]
    }
   ],
   "source": [
    "# spaCy. (requieres numpy<2.x)\n",
    "#!pip install spacy"
   ]
  },
  {
   "cell_type": "code",
   "execution_count": 46,
   "metadata": {},
   "outputs": [],
   "source": [
    "import spacy"
   ]
  },
  {
   "cell_type": "code",
   "execution_count": 49,
   "metadata": {},
   "outputs": [
    {
     "name": "stdout",
     "output_type": "stream",
     "text": [
      "Collecting ru-core-news-sm==3.8.0\n",
      "  Downloading https://github.com/explosion/spacy-models/releases/download/ru_core_news_sm-3.8.0/ru_core_news_sm-3.8.0-py3-none-any.whl (15.3 MB)\n",
      "     ---------------------------------------- 0.0/15.3 MB ? eta -:--:--\n",
      "     ---------------------------------------- 0.0/15.3 MB ? eta -:--:--\n",
      "     --------------------------------------- 0.0/15.3 MB 162.5 kB/s eta 0:01:34\n",
      "     --------------------------------------- 0.0/15.3 MB 326.8 kB/s eta 0:00:47\n",
      "      --------------------------------------- 0.2/15.3 MB 1.5 MB/s eta 0:00:11\n",
      "     - -------------------------------------- 0.5/15.3 MB 2.7 MB/s eta 0:00:06\n",
      "     -- ------------------------------------- 0.9/15.3 MB 3.8 MB/s eta 0:00:04\n",
      "     --- ------------------------------------ 1.4/15.3 MB 5.1 MB/s eta 0:00:03\n",
      "     ----- ---------------------------------- 2.0/15.3 MB 6.3 MB/s eta 0:00:03\n",
      "     ------- -------------------------------- 2.8/15.3 MB 7.5 MB/s eta 0:00:02\n",
      "     --------- ------------------------------ 3.5/15.3 MB 8.5 MB/s eta 0:00:02\n",
      "     ------------ --------------------------- 4.6/15.3 MB 9.8 MB/s eta 0:00:02\n",
      "     -------------- ------------------------- 5.6/15.3 MB 11.2 MB/s eta 0:00:01\n",
      "     ----------------- ---------------------- 6.8/15.3 MB 12.0 MB/s eta 0:00:01\n",
      "     -------------------- ------------------- 8.0/15.3 MB 13.0 MB/s eta 0:00:01\n",
      "     ------------------------ --------------- 9.2/15.3 MB 13.9 MB/s eta 0:00:01\n",
      "     ------------------------- ------------- 10.1/15.3 MB 14.3 MB/s eta 0:00:01\n",
      "     ---------------------------- ---------- 11.1/15.3 MB 19.3 MB/s eta 0:00:01\n",
      "     ------------------------------ -------- 12.1/15.3 MB 21.1 MB/s eta 0:00:01\n",
      "     ---------------------------------- ---- 13.4/15.3 MB 21.8 MB/s eta 0:00:01\n",
      "     ------------------------------------ -- 14.4/15.3 MB 21.8 MB/s eta 0:00:01\n",
      "     --------------------------------------  15.3/15.3 MB 22.6 MB/s eta 0:00:01\n",
      "     --------------------------------------  15.3/15.3 MB 22.6 MB/s eta 0:00:01\n",
      "     --------------------------------------  15.3/15.3 MB 22.6 MB/s eta 0:00:01\n",
      "     --------------------------------------- 15.3/15.3 MB 17.7 MB/s eta 0:00:00\n",
      "Collecting pymorphy3>=1.0.0 (from ru-core-news-sm==3.8.0)\n",
      "  Downloading pymorphy3-2.0.2-py3-none-any.whl.metadata (1.8 kB)\n",
      "Collecting dawg-python>=0.7.1 (from pymorphy3>=1.0.0->ru-core-news-sm==3.8.0)\n",
      "  Downloading DAWG_Python-0.7.2-py2.py3-none-any.whl.metadata (7.0 kB)\n",
      "Collecting pymorphy3-dicts-ru (from pymorphy3>=1.0.0->ru-core-news-sm==3.8.0)\n",
      "  Downloading pymorphy3_dicts_ru-2.4.417150.4580142-py2.py3-none-any.whl.metadata (2.0 kB)\n",
      "Downloading pymorphy3-2.0.2-py3-none-any.whl (53 kB)\n",
      "   ---------------------------------------- 0.0/53.8 kB ? eta -:--:--\n",
      "   ------- -------------------------------- 10.2/53.8 kB ? eta -:--:--\n",
      "   -------------------------------------- - 51.2/53.8 kB 871.5 kB/s eta 0:00:01\n",
      "   ---------------------------------------- 53.8/53.8 kB 558.6 kB/s eta 0:00:00\n",
      "Downloading DAWG_Python-0.7.2-py2.py3-none-any.whl (11 kB)\n",
      "Downloading pymorphy3_dicts_ru-2.4.417150.4580142-py2.py3-none-any.whl (8.4 MB)\n",
      "   ---------------------------------------- 0.0/8.4 MB ? eta -:--:--\n",
      "   ---- ----------------------------------- 0.9/8.4 MB 14.8 MB/s eta 0:00:01\n",
      "   --------- ------------------------------ 2.0/8.4 MB 18.1 MB/s eta 0:00:01\n",
      "   -------------- ------------------------- 3.1/8.4 MB 19.8 MB/s eta 0:00:01\n",
      "   -------------------- ------------------- 4.2/8.4 MB 20.9 MB/s eta 0:00:01\n",
      "   ------------------------ --------------- 5.2/8.4 MB 22.1 MB/s eta 0:00:01\n",
      "   ----------------------------- ---------- 6.3/8.4 MB 21.2 MB/s eta 0:00:01\n",
      "   ----------------------------------- ---- 7.6/8.4 MB 22.0 MB/s eta 0:00:01\n",
      "   ---------------------------------------  8.4/8.4 MB 21.6 MB/s eta 0:00:01\n",
      "   ---------------------------------------  8.4/8.4 MB 21.6 MB/s eta 0:00:01\n",
      "   ---------------------------------------- 8.4/8.4 MB 18.6 MB/s eta 0:00:00\n",
      "Installing collected packages: pymorphy3-dicts-ru, dawg-python, pymorphy3, ru-core-news-sm\n",
      "Successfully installed dawg-python-0.7.2 pymorphy3-2.0.2 pymorphy3-dicts-ru-2.4.417150.4580142 ru-core-news-sm-3.8.0\n",
      "\u001b[38;5;2m✔ Download and installation successful\u001b[0m\n",
      "You can now load the package via spacy.load('ru_core_news_sm')\n"
     ]
    },
    {
     "name": "stderr",
     "output_type": "stream",
     "text": [
      "\n",
      "[notice] A new release of pip is available: 24.0 -> 24.2\n",
      "[notice] To update, run: python.exe -m pip install --upgrade pip\n"
     ]
    }
   ],
   "source": [
    "!python -m spacy download ru_core_news_sm"
   ]
  },
  {
   "cell_type": "code",
   "execution_count": 50,
   "metadata": {},
   "outputs": [],
   "source": [
    "nlp = spacy.load('ru_core_news_sm')\n",
    "doc1 = nlp(test_title)\n",
    "doc2 = nlp(test_text)\n"
   ]
  },
  {
   "cell_type": "code",
   "execution_count": 53,
   "metadata": {},
   "outputs": [
    {
     "name": "stdout",
     "output_type": "stream",
     "text": [
      "['Сергей', 'Аксёнов', 'сообщил', 'о', 'регистрации', 'в', 'Крыму', '247', 'новых', 'случаев', 'COVID-19']\n",
      "['Глава', 'Республики', 'Крым', 'Сергей', 'Аксёнов', 'сообщил', 'на', 'своей', 'официальной', 'странице', 'в', 'социальной', 'сети', '«', 'ВКонтакте', '»', 'о', 'регистрации', '247', 'новых', 'случаев', 'коронавирусной', 'инфекции', 'в', 'Крыму', '.']\n"
     ]
    }
   ],
   "source": [
    "tokens1 = [token.text for token in doc1]\n",
    "print(tokens1)\n",
    "\n",
    "tokens2 = [token.text for token in doc2]\n",
    "print(tokens2)"
   ]
  },
  {
   "cell_type": "markdown",
   "metadata": {},
   "source": [
    "No difference on first sample. #TODO: come up with a tricky sentence and compare"
   ]
  },
  {
   "cell_type": "code",
   "execution_count": 64,
   "metadata": {},
   "outputs": [
    {
     "name": "stdout",
     "output_type": "stream",
     "text": [
      "{'id': 'ed4af92b-0039-453e-8f25-f359225da8e0', 'cc_file': 'crawl-data/CC-NEWS/2021/07/CC-NEWS-20210711213016-00623.warc.gz', 'time': None, 'title': 'Сергей Аксёнов сообщил о регистрации в Крыму 247 новых случаев COVID-19', 'text': 'Глава Республики Крым Сергей Аксёнов сообщил на своей официальной странице в социальной сети «ВКонтакте» о регистрации 247 новых случаев коронавирусной инфекции в Крыму.', 'url': 'https://mirtesen.ru/dispute/43025555825/Sergey-Aksyonov-soobschil-o-registratsii-v-Kryimu-247-novyih-slu'}\n",
      "Сергей Аксёнов сообщил о регистрации в Крыму 247 новых случаев COVID-19\n"
     ]
    }
   ],
   "source": [
    "dict1 = data_ru[0]\n",
    "print(dict1)\n",
    "print(dict1['title'])"
   ]
  },
  {
   "cell_type": "code",
   "execution_count": null,
   "metadata": {},
   "outputs": [],
   "source": []
  },
  {
   "cell_type": "code",
   "execution_count": null,
   "metadata": {},
   "outputs": [],
   "source": []
  },
  {
   "cell_type": "code",
   "execution_count": null,
   "metadata": {},
   "outputs": [],
   "source": []
  }
 ],
 "metadata": {
  "kernelspec": {
   "display_name": "Python 3",
   "language": "python",
   "name": "python3"
  },
  "language_info": {
   "codemirror_mode": {
    "name": "ipython",
    "version": 3
   },
   "file_extension": ".py",
   "mimetype": "text/x-python",
   "name": "python",
   "nbconvert_exporter": "python",
   "pygments_lexer": "ipython3",
   "version": "3.11.7"
  }
 },
 "nbformat": 4,
 "nbformat_minor": 2
}
